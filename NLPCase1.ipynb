{
  "nbformat": 4,
  "nbformat_minor": 0,
  "metadata": {
    "colab": {
      "provenance": [],
      "authorship_tag": "ABX9TyMBxzFzXuOY5CuIGNqkcBUS",
      "include_colab_link": true
    },
    "kernelspec": {
      "name": "python3",
      "display_name": "Python 3"
    },
    "language_info": {
      "name": "python"
    }
  },
  "cells": [
    {
      "cell_type": "markdown",
      "metadata": {
        "id": "view-in-github",
        "colab_type": "text"
      },
      "source": [
        "<a href=\"https://colab.research.google.com/github/swaroopkasaraneni/AI/blob/main/NLPCase1.ipynb\" target=\"_parent\"><img src=\"https://colab.research.google.com/assets/colab-badge.svg\" alt=\"Open In Colab\"/></a>"
      ]
    },
    {
      "cell_type": "code",
      "execution_count": 3,
      "metadata": {
        "id": "N49PDJo4f17f"
      },
      "outputs": [],
      "source": []
    },
    {
      "cell_type": "markdown",
      "source": [
        "1.Write code snippetsin python to perform the following tasks\n",
        "  1. Print your current working directory\n",
        "  2. Create a new directory on your desktop named: “Text Mining and NLP”\n",
        "  3. Make “Text Mining and NLP” your current working directory"
      ],
      "metadata": {
        "id": "MDXQ1IvZgSZG"
      }
    },
    {
      "cell_type": "code",
      "source": [
        "import os\n",
        "\n",
        "current_dir = os.getcwd()\n",
        "print(f\"Current Working Directory: {current_dir}\")\n",
        "\n",
        "desktop_path = os.path.join(os.path.expanduser(\"~\"), \"Desktop\")\n",
        "new_dir_path = os.path.join(desktop_path, \"Text Mining and NLP\")\n",
        "\n",
        "if not os.path.exists(new_dir_path):\n",
        "    os.makedirs(new_dir_path)\n",
        "    print(f\"Directory 'Text Mining and NLP' created at {new_dir_path}\")\n",
        "else:\n",
        "    print(f\"Directory 'Text Mining and NLP' already exists at {new_dir_path}\")\n",
        "\n",
        "os.chdir(new_dir_path)\n",
        "print(f\"New Current Working Directory: {os.getcwd()}\")\n"
      ],
      "metadata": {
        "colab": {
          "base_uri": "https://localhost:8080/"
        },
        "id": "7_ff6gs7iKn_",
        "outputId": "da70cdbb-a924-450c-834b-fe67380d9c63"
      },
      "execution_count": 1,
      "outputs": [
        {
          "output_type": "stream",
          "name": "stdout",
          "text": [
            "Current Working Directory: /content\n",
            "Directory 'Text Mining and NLP' created at /root/Desktop/Text Mining and NLP\n",
            "New Current Working Directory: /root/Desktop/Text Mining and NLP\n"
          ]
        }
      ]
    },
    {
      "cell_type": "markdown",
      "source": [
        "2.Write code snippets in python to performthe following tasks:\n",
        " 1. Create a text file named “Greetings.txt” and write “Welcome toText Mining and Natural Language Processing”\n",
        " 2. Move thisfile to the folder “Text Mining and NLP” which you created in ques 1\n",
        " 3. Rename this file to “Welcome.txt”\n"
      ],
      "metadata": {
        "id": "UBc3iDBFgbQo"
      }
    },
    {
      "cell_type": "code",
      "source": [
        "import os\n",
        "import shutil\n",
        "\n",
        "# 1. Create a text file named \"Greetings.txt\" and write content\n",
        "file_name = \"Greetings.txt\"\n",
        "file_path = os.path.join(desktop_path, file_name)\n",
        "\n",
        "with open(file_path, \"w\") as file:\n",
        "    file.write(\"Welcome to Text Mining and Natural Language Processing\")\n",
        "print(f\"File '{file_name}' created on the desktop.\")\n",
        "\n",
        "# 2. Move the file to the \"Text Mining and NLP\" folder\n",
        "moved_file_path = os.path.join(new_dir_path, file_name)\n",
        "\n",
        "if os.path.exists(file_path):\n",
        "    shutil.move(file_path, moved_file_path)\n",
        "    print(f\"File '{file_name}' moved to '{new_dir_path}'.\")\n",
        "\n",
        "# 3. Rename the file to \"Welcome.txt\"\n",
        "new_file_name = \"Welcome.txt\"\n",
        "new_file_path = os.path.join(new_dir_path, new_file_name)\n",
        "\n",
        "if os.path.exists(moved_file_path):\n",
        "    os.rename(moved_file_path, new_file_path)\n",
        "    print(f\"File renamed to '{new_file_name}' at '{new_dir_path}'.\")\n"
      ],
      "metadata": {
        "colab": {
          "base_uri": "https://localhost:8080/"
        },
        "id": "UBgHz0tFivUd",
        "outputId": "19783c70-4ee9-431f-fb57-b4e9c88c178f"
      },
      "execution_count": 4,
      "outputs": [
        {
          "output_type": "stream",
          "name": "stdout",
          "text": [
            "File 'Greetings.txt' created on the desktop.\n",
            "File 'Greetings.txt' moved to '/root/Desktop/Text Mining and NLP'.\n",
            "File renamed to 'Welcome.txt' at '/root/Desktop/Text Mining and NLP'.\n"
          ]
        }
      ]
    },
    {
      "cell_type": "markdown",
      "source": [
        "3.You are given a docx file named “NLP.docx”. Perform the following tasks:\n",
        "  1. Use DOCXmodule to open the file and perform the following tasks:\n",
        "  2. How many paragraphs are there in the file?\n",
        "  3. For each paragraph, print the number of words it contains\n",
        "  4. Read the content from “Welcome.txt” file which you created in question number 2 and make that content the first paragraph in “NLP.docx” file"
      ],
      "metadata": {
        "id": "QlbjGzDJgs0y"
      }
    },
    {
      "cell_type": "code",
      "source": [
        "!pip install python-docx"
      ],
      "metadata": {
        "colab": {
          "base_uri": "https://localhost:8080/"
        },
        "collapsed": true,
        "id": "5kbeIwJcsdb2",
        "outputId": "3e80befc-d2f8-4275-d6d3-d22be99e55a0"
      },
      "execution_count": 3,
      "outputs": [
        {
          "output_type": "stream",
          "name": "stdout",
          "text": [
            "Collecting python-docx\n",
            "  Downloading python_docx-1.1.2-py3-none-any.whl.metadata (2.0 kB)\n",
            "Requirement already satisfied: lxml>=3.1.0 in /usr/local/lib/python3.10/dist-packages (from python-docx) (5.3.0)\n",
            "Requirement already satisfied: typing-extensions>=4.9.0 in /usr/local/lib/python3.10/dist-packages (from python-docx) (4.12.2)\n",
            "Downloading python_docx-1.1.2-py3-none-any.whl (244 kB)\n",
            "\u001b[2K   \u001b[90m━━━━━━━━━━━━━━━━━━━━━━━━━━━━━━━━━━━━━━━━\u001b[0m \u001b[32m244.3/244.3 kB\u001b[0m \u001b[31m3.3 MB/s\u001b[0m eta \u001b[36m0:00:00\u001b[0m\n",
            "\u001b[?25hInstalling collected packages: python-docx\n",
            "Successfully installed python-docx-1.1.2\n"
          ]
        }
      ]
    },
    {
      "cell_type": "code",
      "source": [
        "from docx import Document\n",
        "\n",
        "# Task 1: Open the file \"NLP.docx\" and count paragraphs\n",
        "doc_path = \"NLP.docx\"\n",
        "doc = Document(doc_path)\n",
        "\n",
        "# Count paragraphs\n",
        "num_paragraphs = len(doc.paragraphs)\n",
        "print(f\"The file '{doc_path}' contains {num_paragraphs} paragraphs.\")\n",
        "\n",
        "# Print number of words in each paragraph\n",
        "for idx, paragraph in enumerate(doc.paragraphs, start=1):\n",
        "    word_count = len(paragraph.text.split())\n",
        "    print(f\"Paragraph {idx} contains {word_count} words.\")\n",
        "\n",
        "# Task 2: Read content from \"Welcome.txt\"\n",
        "welcome_path = \"/root/Desktop/Text Mining and NLP/Welcome.txt\"\n",
        "with open(welcome_path, \"r\") as file:\n",
        "    welcome_content = file.read()\n",
        "\n",
        "print(\"welcome_content:\",welcome_content)\n",
        "# Add the content from \"Welcome.txt\" as the first paragraph in \"NLP.docx\"\n",
        "doc.paragraphs.insert(0, doc.add_paragraph(welcome_content))\n",
        "print(f\"The content from '{welcome_path}' has been added as the first paragraph in '{doc_path}'.\")\n",
        "\n",
        "# Save the updated document\n",
        "updated_doc_path = \"Updated_NLP.docx\"\n",
        "doc.save(updated_doc_path)\n",
        "print(f\"The updated document has been saved as '{updated_doc_path}'.\")\n"
      ],
      "metadata": {
        "colab": {
          "base_uri": "https://localhost:8080/"
        },
        "id": "pXE-z4w0q_je",
        "outputId": "5af673a9-3c59-4000-9b33-6da1c54eaf06"
      },
      "execution_count": 4,
      "outputs": [
        {
          "output_type": "stream",
          "name": "stdout",
          "text": [
            "The file 'NLP.docx' contains 26 paragraphs.\n",
            "Paragraph 1 contains 74 words.\n",
            "Paragraph 2 contains 58 words.\n",
            "Paragraph 3 contains 135 words.\n",
            "Paragraph 4 contains 26 words.\n",
            "Paragraph 5 contains 6 words.\n",
            "Paragraph 6 contains 75 words.\n",
            "Paragraph 7 contains 38 words.\n",
            "Paragraph 8 contains 64 words.\n",
            "Paragraph 9 contains 47 words.\n",
            "Paragraph 10 contains 50 words.\n",
            "Paragraph 11 contains 9 words.\n",
            "Paragraph 12 contains 71 words.\n",
            "Paragraph 13 contains 37 words.\n",
            "Paragraph 14 contains 76 words.\n",
            "Paragraph 15 contains 97 words.\n",
            "Paragraph 16 contains 8 words.\n",
            "Paragraph 17 contains 45 words.\n",
            "Paragraph 18 contains 105 words.\n",
            "Paragraph 19 contains 35 words.\n",
            "Paragraph 20 contains 54 words.\n",
            "Paragraph 21 contains 59 words.\n",
            "Paragraph 22 contains 6 words.\n",
            "Paragraph 23 contains 82 words.\n",
            "Paragraph 24 contains 92 words.\n",
            "Paragraph 25 contains 76 words.\n",
            "Paragraph 26 contains 60 words.\n",
            "welcome_content: Welcome to Text Mining and Natural Language Processing\n",
            "The content from '/root/Desktop/Text Mining and NLP/Welcome.txt' has been added as the first paragraph in 'NLP.docx'.\n",
            "The updated document has been saved as 'Updated_NLP.docx'.\n"
          ]
        }
      ]
    },
    {
      "cell_type": "markdown",
      "source": [
        "4.You are given a csv file named “EmployeeDetails.csv”. Perform the following tasks:\n",
        "  1. Use pandas module to read the csv file\n",
        "  2. Split the name as first name and last name and make two separate columnsas shown\n",
        "  ![image.png](data:image/png;base64,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)\n",
        "  3. Delete “Name” Column\n",
        "  4. Increment the “Salary” Column by 10% of the existing valueand save changes in same column onlyas shown\n",
        "  ![image.png](data:image/png;base64,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)\n",
        "  5. Save changes to a new file named “Employee_Data.csv”"
      ],
      "metadata": {
        "id": "Byen6Sqwg9j-"
      }
    },
    {
      "cell_type": "code",
      "source": [
        "import pandas as pd\n",
        "\n",
        "data = pd.read_csv(\"/content/EmployeeDetails.csv\")\n",
        "\n",
        "# Split the Name column into First Name and Last Name\n",
        "data[['First Name', 'Last Name']] = data['Name '].str.split(pat=' ',n=1, expand=True)\n",
        "\n",
        "# Delete the original Name column\n",
        "data.drop(columns=['Name '], inplace=True)\n",
        "\n",
        "# Increment the Salary column by 10% of the existing value\n",
        "data['Salary'] = data['Salary'] * 1.10\n",
        "\n",
        "# Save changes to a new file named \"Employee_Data.csv\"\n",
        "data.to_csv(\"Employee_Data.csv\", index=False)\n",
        "\n",
        "print(\"Processed data saved to 'Employee_Data.csv'\")\n",
        "\n"
      ],
      "metadata": {
        "colab": {
          "base_uri": "https://localhost:8080/"
        },
        "id": "FMNbGuZshjXR",
        "outputId": "446ffbea-e5f4-4cf4-d6b8-9ae59cffc716"
      },
      "execution_count": 16,
      "outputs": [
        {
          "output_type": "stream",
          "name": "stdout",
          "text": [
            "Processed data saved to 'Employee_Data.csv'\n"
          ]
        }
      ]
    },
    {
      "cell_type": "code",
      "source": [],
      "metadata": {
        "id": "yk7UC4Jgvz2Z"
      },
      "execution_count": null,
      "outputs": []
    }
  ]
}