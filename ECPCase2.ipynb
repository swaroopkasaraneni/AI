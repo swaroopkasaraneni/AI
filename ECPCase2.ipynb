{
  "nbformat": 4,
  "nbformat_minor": 0,
  "metadata": {
    "colab": {
      "provenance": [],
      "authorship_tag": "ABX9TyMHYMA3evAZzeo7Y6JnPX11",
      "include_colab_link": true
    },
    "kernelspec": {
      "name": "python3",
      "display_name": "Python 3"
    },
    "language_info": {
      "name": "python"
    }
  },
  "cells": [
    {
      "cell_type": "markdown",
      "metadata": {
        "id": "view-in-github",
        "colab_type": "text"
      },
      "source": [
        "<a href=\"https://colab.research.google.com/github/swaroopkasaraneni/AI/blob/main/ECPCase2.ipynb\" target=\"_parent\"><img src=\"https://colab.research.google.com/assets/colab-badge.svg\" alt=\"Open In Colab\"/></a>"
      ]
    },
    {
      "cell_type": "code",
      "execution_count": null,
      "metadata": {
        "id": "zzvUQ9mTH1GR"
      },
      "outputs": [],
      "source": []
    },
    {
      "cell_type": "markdown",
      "source": [
        "1. Read the file “Brexit.docx” and write a function in Python named “GetNGrams” which takes a string and a number ‘n’ as input and returns n-grams from the string.Example: String: “John met with an accident”Output:\n",
        "  1. When n=2 => [(John, met), (met, with), (with, an), (an, accident)]\n",
        "  2. When n=3 => [(John, met, with), (met, with, an), (with, an, accident)]\n",
        "  3. When n=4 => [(John, met, with, an), (met, with, an, accident)]  "
      ],
      "metadata": {
        "id": "tDKI42lsIx3S"
      }
    },
    {
      "cell_type": "code",
      "source": [
        "!pip install python-docx"
      ],
      "metadata": {
        "colab": {
          "base_uri": "https://localhost:8080/"
        },
        "id": "H6ppVs03KKfu",
        "outputId": "610b1648-3a95-47c6-8050-95b7d440ef35"
      },
      "execution_count": 1,
      "outputs": [
        {
          "output_type": "stream",
          "name": "stdout",
          "text": [
            "Collecting python-docx\n",
            "  Downloading python_docx-1.1.2-py3-none-any.whl.metadata (2.0 kB)\n",
            "Requirement already satisfied: lxml>=3.1.0 in /usr/local/lib/python3.10/dist-packages (from python-docx) (5.3.0)\n",
            "Requirement already satisfied: typing-extensions>=4.9.0 in /usr/local/lib/python3.10/dist-packages (from python-docx) (4.12.2)\n",
            "Downloading python_docx-1.1.2-py3-none-any.whl (244 kB)\n",
            "\u001b[?25l   \u001b[90m━━━━━━━━━━━━━━━━━━━━━━━━━━━━━━━━━━━━━━━━\u001b[0m \u001b[32m0.0/244.3 kB\u001b[0m \u001b[31m?\u001b[0m eta \u001b[36m-:--:--\u001b[0m\r\u001b[2K   \u001b[91m━━━━━━━━━━━━━━━━━━━━━━━━━━━━━━━━━━━━━━\u001b[0m\u001b[91m╸\u001b[0m\u001b[90m━\u001b[0m \u001b[32m235.5/244.3 kB\u001b[0m \u001b[31m8.1 MB/s\u001b[0m eta \u001b[36m0:00:01\u001b[0m\r\u001b[2K   \u001b[90m━━━━━━━━━━━━━━━━━━━━━━━━━━━━━━━━━━━━━━━━\u001b[0m \u001b[32m244.3/244.3 kB\u001b[0m \u001b[31m5.4 MB/s\u001b[0m eta \u001b[36m0:00:00\u001b[0m\n",
            "\u001b[?25hInstalling collected packages: python-docx\n",
            "Successfully installed python-docx-1.1.2\n"
          ]
        }
      ]
    },
    {
      "cell_type": "code",
      "source": [
        "import docx\n",
        "from nltk.util import ngrams\n",
        "\n",
        "def read_docx(file_path):\n",
        "    \"\"\"\n",
        "    Reads a .docx file and returns its content as a string.\n",
        "    \"\"\"\n",
        "    doc = docx.Document(file_path)\n",
        "    content = \"\"\n",
        "    for paragraph in doc.paragraphs:\n",
        "        content += paragraph.text + \" \"\n",
        "    return content.strip()\n",
        "\n",
        "def GetNGrams(input_string, n):\n",
        "    \"\"\"\n",
        "    Generates n-grams from the input string.\n",
        "    :param input_string: The string from which n-grams are to be created\n",
        "    :param n: The size of the n-grams\n",
        "    :return: List of n-grams as tuples\n",
        "    \"\"\"\n",
        "    # Tokenize the string\n",
        "    tokens = input_string.split()\n",
        "    # Generate n-grams\n",
        "    n_grams = list(ngrams(tokens, n))\n",
        "    return n_grams\n",
        "\n",
        "\n",
        "file_path = \"Brexit.docx\"\n",
        "document_text = read_docx(file_path)\n",
        "print(\"Document Content:\\n\", document_text)\n",
        "\n",
        "n = int(input(\"\\nEnter the value of n for n-grams: \"))\n",
        "n_grams = GetNGrams(document_text, n)\n",
        "\n",
        "print(f\"\\n{n}-grams:\\n\", n_grams)\n"
      ],
      "metadata": {
        "colab": {
          "base_uri": "https://localhost:8080/"
        },
        "id": "rhazSBjtJ7ye",
        "outputId": "b9942d99-e084-4bfc-86d6-67a98e0ed4a2"
      },
      "execution_count": 3,
      "outputs": [
        {
          "output_type": "stream",
          "name": "stdout",
          "text": [
            "Document Content:\n",
            " Brexit is the impending withdrawal of the United Kingdom (UK) from the European Union (EU). In a referendum on 23 June 2016, a majority of British voters supported leaving the EU. On 29 March 2017, the UK government invoked Article 50 of the Treaty on European Union. The European Union (Withdrawal) Act 2018 declares \"exit day\" to be 29 March 2019 at 11 p.m. (Central European Time). Prime Minister Theresa May announced the government's intention not to seek permanent membership of the European single market or the EU customs union after leaving the EU and promised to repeal the European Communities Act of 1972 and incorporate existing European Union law into UK domestic law. A new government department, the Department for Exiting the European Union, was created in July 2016. Negotiations with the EU officially started in June 2017, aiming to complete the withdrawal agreement by October 2018. In June 2018, the UK and the EU published a joint progress report outlining agreement on issues including customs, VAT and Euratom. The UK joined the European Communities (EC) in 1973, with membership confirmed by a referendum in 1975. In the 1970s and 1980s, withdrawal from the EC was advocated mainly by Labour Party members and trade union figures. From the 1990s, the main advocates of withdrawal were the newly founded UK Independence Party (UKIP) and an increasing number of Eurosceptic Conservative Party members. Prime Minister David Cameron held the referendum in fulfilment of a 2015 manifesto pledge. Cameron, who had campaigned for \"Remain\", resigned after the referendum result and was succeeded by Theresa May, who called a snap general election less than a year later, in which she lost her overall majority. Her minority government is supported in key votes by the Democratic Unionist Party. Six weeks after the referendum, the Bank of England introduced quantitative easing and lower interest rates, thus allowing both depreciation of sterling and a rise in inflation that outpaced wage growth for most of 2017. The drop in the value of sterling has been claimed to have been caused in part by hedge-fund managers betting on Brexit against polls predicting a narrow victory for the \"Remain\" camp.  There is a broad consensus in existing economic research that Brexit is likely to reduce the UK's real per capita income in the medium term and long term. There is also agreement among economists that the Brexit referendum itself damaged the economy in the subsequent two years. Studies on effects that have materialised since the referendum show annual losses of £404 for the average UK household, and losses between 1.3% and 2.1% of UK GDP. Brexit is likely to reduce immigration from European Economic Area (EEA) countries to the UK, and poses challenges for UK higher education and academic research. As of June 2018, the size of the \"divorce bill\", the UK's inheritance of existing EU trade agreements, and relations with Ireland and other EU member states remain uncertain. The precise impact on the UK depends on whether the process will be a \"hard\" or a \"soft\" Brexit.\n",
            "\n",
            "Enter the value of n for n-grams: 3\n",
            "\n",
            "3-grams:\n",
            " [('Brexit', 'is', 'the'), ('is', 'the', 'impending'), ('the', 'impending', 'withdrawal'), ('impending', 'withdrawal', 'of'), ('withdrawal', 'of', 'the'), ('of', 'the', 'United'), ('the', 'United', 'Kingdom'), ('United', 'Kingdom', '(UK)'), ('Kingdom', '(UK)', 'from'), ('(UK)', 'from', 'the'), ('from', 'the', 'European'), ('the', 'European', 'Union'), ('European', 'Union', '(EU).'), ('Union', '(EU).', 'In'), ('(EU).', 'In', 'a'), ('In', 'a', 'referendum'), ('a', 'referendum', 'on'), ('referendum', 'on', '23'), ('on', '23', 'June'), ('23', 'June', '2016,'), ('June', '2016,', 'a'), ('2016,', 'a', 'majority'), ('a', 'majority', 'of'), ('majority', 'of', 'British'), ('of', 'British', 'voters'), ('British', 'voters', 'supported'), ('voters', 'supported', 'leaving'), ('supported', 'leaving', 'the'), ('leaving', 'the', 'EU.'), ('the', 'EU.', 'On'), ('EU.', 'On', '29'), ('On', '29', 'March'), ('29', 'March', '2017,'), ('March', '2017,', 'the'), ('2017,', 'the', 'UK'), ('the', 'UK', 'government'), ('UK', 'government', 'invoked'), ('government', 'invoked', 'Article'), ('invoked', 'Article', '50'), ('Article', '50', 'of'), ('50', 'of', 'the'), ('of', 'the', 'Treaty'), ('the', 'Treaty', 'on'), ('Treaty', 'on', 'European'), ('on', 'European', 'Union.'), ('European', 'Union.', 'The'), ('Union.', 'The', 'European'), ('The', 'European', 'Union'), ('European', 'Union', '(Withdrawal)'), ('Union', '(Withdrawal)', 'Act'), ('(Withdrawal)', 'Act', '2018'), ('Act', '2018', 'declares'), ('2018', 'declares', '\"exit'), ('declares', '\"exit', 'day\"'), ('\"exit', 'day\"', 'to'), ('day\"', 'to', 'be'), ('to', 'be', '29'), ('be', '29', 'March'), ('29', 'March', '2019'), ('March', '2019', 'at'), ('2019', 'at', '11'), ('at', '11', 'p.m.'), ('11', 'p.m.', '(Central'), ('p.m.', '(Central', 'European'), ('(Central', 'European', 'Time).'), ('European', 'Time).', 'Prime'), ('Time).', 'Prime', 'Minister'), ('Prime', 'Minister', 'Theresa'), ('Minister', 'Theresa', 'May'), ('Theresa', 'May', 'announced'), ('May', 'announced', 'the'), ('announced', 'the', \"government's\"), ('the', \"government's\", 'intention'), (\"government's\", 'intention', 'not'), ('intention', 'not', 'to'), ('not', 'to', 'seek'), ('to', 'seek', 'permanent'), ('seek', 'permanent', 'membership'), ('permanent', 'membership', 'of'), ('membership', 'of', 'the'), ('of', 'the', 'European'), ('the', 'European', 'single'), ('European', 'single', 'market'), ('single', 'market', 'or'), ('market', 'or', 'the'), ('or', 'the', 'EU'), ('the', 'EU', 'customs'), ('EU', 'customs', 'union'), ('customs', 'union', 'after'), ('union', 'after', 'leaving'), ('after', 'leaving', 'the'), ('leaving', 'the', 'EU'), ('the', 'EU', 'and'), ('EU', 'and', 'promised'), ('and', 'promised', 'to'), ('promised', 'to', 'repeal'), ('to', 'repeal', 'the'), ('repeal', 'the', 'European'), ('the', 'European', 'Communities'), ('European', 'Communities', 'Act'), ('Communities', 'Act', 'of'), ('Act', 'of', '1972'), ('of', '1972', 'and'), ('1972', 'and', 'incorporate'), ('and', 'incorporate', 'existing'), ('incorporate', 'existing', 'European'), ('existing', 'European', 'Union'), ('European', 'Union', 'law'), ('Union', 'law', 'into'), ('law', 'into', 'UK'), ('into', 'UK', 'domestic'), ('UK', 'domestic', 'law.'), ('domestic', 'law.', 'A'), ('law.', 'A', 'new'), ('A', 'new', 'government'), ('new', 'government', 'department,'), ('government', 'department,', 'the'), ('department,', 'the', 'Department'), ('the', 'Department', 'for'), ('Department', 'for', 'Exiting'), ('for', 'Exiting', 'the'), ('Exiting', 'the', 'European'), ('the', 'European', 'Union,'), ('European', 'Union,', 'was'), ('Union,', 'was', 'created'), ('was', 'created', 'in'), ('created', 'in', 'July'), ('in', 'July', '2016.'), ('July', '2016.', 'Negotiations'), ('2016.', 'Negotiations', 'with'), ('Negotiations', 'with', 'the'), ('with', 'the', 'EU'), ('the', 'EU', 'officially'), ('EU', 'officially', 'started'), ('officially', 'started', 'in'), ('started', 'in', 'June'), ('in', 'June', '2017,'), ('June', '2017,', 'aiming'), ('2017,', 'aiming', 'to'), ('aiming', 'to', 'complete'), ('to', 'complete', 'the'), ('complete', 'the', 'withdrawal'), ('the', 'withdrawal', 'agreement'), ('withdrawal', 'agreement', 'by'), ('agreement', 'by', 'October'), ('by', 'October', '2018.'), ('October', '2018.', 'In'), ('2018.', 'In', 'June'), ('In', 'June', '2018,'), ('June', '2018,', 'the'), ('2018,', 'the', 'UK'), ('the', 'UK', 'and'), ('UK', 'and', 'the'), ('and', 'the', 'EU'), ('the', 'EU', 'published'), ('EU', 'published', 'a'), ('published', 'a', 'joint'), ('a', 'joint', 'progress'), ('joint', 'progress', 'report'), ('progress', 'report', 'outlining'), ('report', 'outlining', 'agreement'), ('outlining', 'agreement', 'on'), ('agreement', 'on', 'issues'), ('on', 'issues', 'including'), ('issues', 'including', 'customs,'), ('including', 'customs,', 'VAT'), ('customs,', 'VAT', 'and'), ('VAT', 'and', 'Euratom.'), ('and', 'Euratom.', 'The'), ('Euratom.', 'The', 'UK'), ('The', 'UK', 'joined'), ('UK', 'joined', 'the'), ('joined', 'the', 'European'), ('the', 'European', 'Communities'), ('European', 'Communities', '(EC)'), ('Communities', '(EC)', 'in'), ('(EC)', 'in', '1973,'), ('in', '1973,', 'with'), ('1973,', 'with', 'membership'), ('with', 'membership', 'confirmed'), ('membership', 'confirmed', 'by'), ('confirmed', 'by', 'a'), ('by', 'a', 'referendum'), ('a', 'referendum', 'in'), ('referendum', 'in', '1975.'), ('in', '1975.', 'In'), ('1975.', 'In', 'the'), ('In', 'the', '1970s'), ('the', '1970s', 'and'), ('1970s', 'and', '1980s,'), ('and', '1980s,', 'withdrawal'), ('1980s,', 'withdrawal', 'from'), ('withdrawal', 'from', 'the'), ('from', 'the', 'EC'), ('the', 'EC', 'was'), ('EC', 'was', 'advocated'), ('was', 'advocated', 'mainly'), ('advocated', 'mainly', 'by'), ('mainly', 'by', 'Labour'), ('by', 'Labour', 'Party'), ('Labour', 'Party', 'members'), ('Party', 'members', 'and'), ('members', 'and', 'trade'), ('and', 'trade', 'union'), ('trade', 'union', 'figures.'), ('union', 'figures.', 'From'), ('figures.', 'From', 'the'), ('From', 'the', '1990s,'), ('the', '1990s,', 'the'), ('1990s,', 'the', 'main'), ('the', 'main', 'advocates'), ('main', 'advocates', 'of'), ('advocates', 'of', 'withdrawal'), ('of', 'withdrawal', 'were'), ('withdrawal', 'were', 'the'), ('were', 'the', 'newly'), ('the', 'newly', 'founded'), ('newly', 'founded', 'UK'), ('founded', 'UK', 'Independence'), ('UK', 'Independence', 'Party'), ('Independence', 'Party', '(UKIP)'), ('Party', '(UKIP)', 'and'), ('(UKIP)', 'and', 'an'), ('and', 'an', 'increasing'), ('an', 'increasing', 'number'), ('increasing', 'number', 'of'), ('number', 'of', 'Eurosceptic'), ('of', 'Eurosceptic', 'Conservative'), ('Eurosceptic', 'Conservative', 'Party'), ('Conservative', 'Party', 'members.'), ('Party', 'members.', 'Prime'), ('members.', 'Prime', 'Minister'), ('Prime', 'Minister', 'David'), ('Minister', 'David', 'Cameron'), ('David', 'Cameron', 'held'), ('Cameron', 'held', 'the'), ('held', 'the', 'referendum'), ('the', 'referendum', 'in'), ('referendum', 'in', 'fulfilment'), ('in', 'fulfilment', 'of'), ('fulfilment', 'of', 'a'), ('of', 'a', '2015'), ('a', '2015', 'manifesto'), ('2015', 'manifesto', 'pledge.'), ('manifesto', 'pledge.', 'Cameron,'), ('pledge.', 'Cameron,', 'who'), ('Cameron,', 'who', 'had'), ('who', 'had', 'campaigned'), ('had', 'campaigned', 'for'), ('campaigned', 'for', '\"Remain\",'), ('for', '\"Remain\",', 'resigned'), ('\"Remain\",', 'resigned', 'after'), ('resigned', 'after', 'the'), ('after', 'the', 'referendum'), ('the', 'referendum', 'result'), ('referendum', 'result', 'and'), ('result', 'and', 'was'), ('and', 'was', 'succeeded'), ('was', 'succeeded', 'by'), ('succeeded', 'by', 'Theresa'), ('by', 'Theresa', 'May,'), ('Theresa', 'May,', 'who'), ('May,', 'who', 'called'), ('who', 'called', 'a'), ('called', 'a', 'snap'), ('a', 'snap', 'general'), ('snap', 'general', 'election'), ('general', 'election', 'less'), ('election', 'less', 'than'), ('less', 'than', 'a'), ('than', 'a', 'year'), ('a', 'year', 'later,'), ('year', 'later,', 'in'), ('later,', 'in', 'which'), ('in', 'which', 'she'), ('which', 'she', 'lost'), ('she', 'lost', 'her'), ('lost', 'her', 'overall'), ('her', 'overall', 'majority.'), ('overall', 'majority.', 'Her'), ('majority.', 'Her', 'minority'), ('Her', 'minority', 'government'), ('minority', 'government', 'is'), ('government', 'is', 'supported'), ('is', 'supported', 'in'), ('supported', 'in', 'key'), ('in', 'key', 'votes'), ('key', 'votes', 'by'), ('votes', 'by', 'the'), ('by', 'the', 'Democratic'), ('the', 'Democratic', 'Unionist'), ('Democratic', 'Unionist', 'Party.'), ('Unionist', 'Party.', 'Six'), ('Party.', 'Six', 'weeks'), ('Six', 'weeks', 'after'), ('weeks', 'after', 'the'), ('after', 'the', 'referendum,'), ('the', 'referendum,', 'the'), ('referendum,', 'the', 'Bank'), ('the', 'Bank', 'of'), ('Bank', 'of', 'England'), ('of', 'England', 'introduced'), ('England', 'introduced', 'quantitative'), ('introduced', 'quantitative', 'easing'), ('quantitative', 'easing', 'and'), ('easing', 'and', 'lower'), ('and', 'lower', 'interest'), ('lower', 'interest', 'rates,'), ('interest', 'rates,', 'thus'), ('rates,', 'thus', 'allowing'), ('thus', 'allowing', 'both'), ('allowing', 'both', 'depreciation'), ('both', 'depreciation', 'of'), ('depreciation', 'of', 'sterling'), ('of', 'sterling', 'and'), ('sterling', 'and', 'a'), ('and', 'a', 'rise'), ('a', 'rise', 'in'), ('rise', 'in', 'inflation'), ('in', 'inflation', 'that'), ('inflation', 'that', 'outpaced'), ('that', 'outpaced', 'wage'), ('outpaced', 'wage', 'growth'), ('wage', 'growth', 'for'), ('growth', 'for', 'most'), ('for', 'most', 'of'), ('most', 'of', '2017.'), ('of', '2017.', 'The'), ('2017.', 'The', 'drop'), ('The', 'drop', 'in'), ('drop', 'in', 'the'), ('in', 'the', 'value'), ('the', 'value', 'of'), ('value', 'of', 'sterling'), ('of', 'sterling', 'has'), ('sterling', 'has', 'been'), ('has', 'been', 'claimed'), ('been', 'claimed', 'to'), ('claimed', 'to', 'have'), ('to', 'have', 'been'), ('have', 'been', 'caused'), ('been', 'caused', 'in'), ('caused', 'in', 'part'), ('in', 'part', 'by'), ('part', 'by', 'hedge-fund'), ('by', 'hedge-fund', 'managers'), ('hedge-fund', 'managers', 'betting'), ('managers', 'betting', 'on'), ('betting', 'on', 'Brexit'), ('on', 'Brexit', 'against'), ('Brexit', 'against', 'polls'), ('against', 'polls', 'predicting'), ('polls', 'predicting', 'a'), ('predicting', 'a', 'narrow'), ('a', 'narrow', 'victory'), ('narrow', 'victory', 'for'), ('victory', 'for', 'the'), ('for', 'the', '\"Remain\"'), ('the', '\"Remain\"', 'camp.'), ('\"Remain\"', 'camp.', 'There'), ('camp.', 'There', 'is'), ('There', 'is', 'a'), ('is', 'a', 'broad'), ('a', 'broad', 'consensus'), ('broad', 'consensus', 'in'), ('consensus', 'in', 'existing'), ('in', 'existing', 'economic'), ('existing', 'economic', 'research'), ('economic', 'research', 'that'), ('research', 'that', 'Brexit'), ('that', 'Brexit', 'is'), ('Brexit', 'is', 'likely'), ('is', 'likely', 'to'), ('likely', 'to', 'reduce'), ('to', 'reduce', 'the'), ('reduce', 'the', \"UK's\"), ('the', \"UK's\", 'real'), (\"UK's\", 'real', 'per'), ('real', 'per', 'capita'), ('per', 'capita', 'income'), ('capita', 'income', 'in'), ('income', 'in', 'the'), ('in', 'the', 'medium'), ('the', 'medium', 'term'), ('medium', 'term', 'and'), ('term', 'and', 'long'), ('and', 'long', 'term.'), ('long', 'term.', 'There'), ('term.', 'There', 'is'), ('There', 'is', 'also'), ('is', 'also', 'agreement'), ('also', 'agreement', 'among'), ('agreement', 'among', 'economists'), ('among', 'economists', 'that'), ('economists', 'that', 'the'), ('that', 'the', 'Brexit'), ('the', 'Brexit', 'referendum'), ('Brexit', 'referendum', 'itself'), ('referendum', 'itself', 'damaged'), ('itself', 'damaged', 'the'), ('damaged', 'the', 'economy'), ('the', 'economy', 'in'), ('economy', 'in', 'the'), ('in', 'the', 'subsequent'), ('the', 'subsequent', 'two'), ('subsequent', 'two', 'years.'), ('two', 'years.', 'Studies'), ('years.', 'Studies', 'on'), ('Studies', 'on', 'effects'), ('on', 'effects', 'that'), ('effects', 'that', 'have'), ('that', 'have', 'materialised'), ('have', 'materialised', 'since'), ('materialised', 'since', 'the'), ('since', 'the', 'referendum'), ('the', 'referendum', 'show'), ('referendum', 'show', 'annual'), ('show', 'annual', 'losses'), ('annual', 'losses', 'of'), ('losses', 'of', '£404'), ('of', '£404', 'for'), ('£404', 'for', 'the'), ('for', 'the', 'average'), ('the', 'average', 'UK'), ('average', 'UK', 'household,'), ('UK', 'household,', 'and'), ('household,', 'and', 'losses'), ('and', 'losses', 'between'), ('losses', 'between', '1.3%'), ('between', '1.3%', 'and'), ('1.3%', 'and', '2.1%'), ('and', '2.1%', 'of'), ('2.1%', 'of', 'UK'), ('of', 'UK', 'GDP.'), ('UK', 'GDP.', 'Brexit'), ('GDP.', 'Brexit', 'is'), ('Brexit', 'is', 'likely'), ('is', 'likely', 'to'), ('likely', 'to', 'reduce'), ('to', 'reduce', 'immigration'), ('reduce', 'immigration', 'from'), ('immigration', 'from', 'European'), ('from', 'European', 'Economic'), ('European', 'Economic', 'Area'), ('Economic', 'Area', '(EEA)'), ('Area', '(EEA)', 'countries'), ('(EEA)', 'countries', 'to'), ('countries', 'to', 'the'), ('to', 'the', 'UK,'), ('the', 'UK,', 'and'), ('UK,', 'and', 'poses'), ('and', 'poses', 'challenges'), ('poses', 'challenges', 'for'), ('challenges', 'for', 'UK'), ('for', 'UK', 'higher'), ('UK', 'higher', 'education'), ('higher', 'education', 'and'), ('education', 'and', 'academic'), ('and', 'academic', 'research.'), ('academic', 'research.', 'As'), ('research.', 'As', 'of'), ('As', 'of', 'June'), ('of', 'June', '2018,'), ('June', '2018,', 'the'), ('2018,', 'the', 'size'), ('the', 'size', 'of'), ('size', 'of', 'the'), ('of', 'the', '\"divorce'), ('the', '\"divorce', 'bill\",'), ('\"divorce', 'bill\",', 'the'), ('bill\",', 'the', \"UK's\"), ('the', \"UK's\", 'inheritance'), (\"UK's\", 'inheritance', 'of'), ('inheritance', 'of', 'existing'), ('of', 'existing', 'EU'), ('existing', 'EU', 'trade'), ('EU', 'trade', 'agreements,'), ('trade', 'agreements,', 'and'), ('agreements,', 'and', 'relations'), ('and', 'relations', 'with'), ('relations', 'with', 'Ireland'), ('with', 'Ireland', 'and'), ('Ireland', 'and', 'other'), ('and', 'other', 'EU'), ('other', 'EU', 'member'), ('EU', 'member', 'states'), ('member', 'states', 'remain'), ('states', 'remain', 'uncertain.'), ('remain', 'uncertain.', 'The'), ('uncertain.', 'The', 'precise'), ('The', 'precise', 'impact'), ('precise', 'impact', 'on'), ('impact', 'on', 'the'), ('on', 'the', 'UK'), ('the', 'UK', 'depends'), ('UK', 'depends', 'on'), ('depends', 'on', 'whether'), ('on', 'whether', 'the'), ('whether', 'the', 'process'), ('the', 'process', 'will'), ('process', 'will', 'be'), ('will', 'be', 'a'), ('be', 'a', '\"hard\"'), ('a', '\"hard\"', 'or'), ('\"hard\"', 'or', 'a'), ('or', 'a', '\"soft\"'), ('a', '\"soft\"', 'Brexit.')]\n"
          ]
        }
      ]
    },
    {
      "cell_type": "markdown",
      "source": [
        "2.Read the file “Brexit.docx” andwrite python functions which take a string as an input and returns:\n",
        "  1. Number of Nouns (all forms of noun). Take function name as “NounsCount”\n",
        "  2. Number of Pronouns (all forms). Take function name as “PronounsCount”\n",
        "  3. Number of Adjectives (all forms).Take function name as “AdjectivesCount”\n",
        "  4. Number of Verbs (all forms).Take function name as “VerbsCount”\n",
        "  5. Number of Adverbs (all forms).Take function name as “AdverbsCount”\n",
        "  \n",
        "Plot a pie chart showing the distribution of nouns, pronouns, verbs, adverbsand adjectives."
      ],
      "metadata": {
        "id": "1mRXi07TI9RZ"
      }
    },
    {
      "cell_type": "code",
      "source": [
        "import docx\n",
        "import nltk\n",
        "from nltk import pos_tag, word_tokenize\n",
        "from collections import Counter\n",
        "import matplotlib.pyplot as plt\n",
        "\n",
        "# Ensure nltk resources are downloaded\n",
        "nltk.download('punkt')\n",
        "nltk.download('punkt_tab')\n",
        "nltk.download('averaged_perceptron_tagger_eng')\n",
        "nltk.download('averaged_perceptron_tagger')\n",
        "\n",
        "def read_docx(file_path):\n",
        "    \"\"\"\n",
        "    Reads a .docx file and returns its content as a string.\n",
        "    \"\"\"\n",
        "    doc = docx.Document(file_path)\n",
        "    content = \"\"\n",
        "    for paragraph in doc.paragraphs:\n",
        "        content += paragraph.text + \" \"\n",
        "    return content.strip()\n",
        "\n",
        "def NounsCount(text):\n",
        "    \"\"\"\n",
        "    Counts the number of nouns in the text.\n",
        "    \"\"\"\n",
        "    tokens = word_tokenize(text)\n",
        "    pos_tags = pos_tag(tokens)\n",
        "    return sum(1 for _, tag in pos_tags if tag.startswith('NN'))\n",
        "\n",
        "def PronounsCount(text):\n",
        "    \"\"\"\n",
        "    Counts the number of pronouns in the text.\n",
        "    \"\"\"\n",
        "    tokens = word_tokenize(text)\n",
        "    pos_tags = pos_tag(tokens)\n",
        "    return sum(1 for _, tag in pos_tags if tag in ('PRP', 'PRP$', 'WP', 'WP$'))\n",
        "\n",
        "def AdjectivesCount(text):\n",
        "    \"\"\"\n",
        "    Counts the number of adjectives in the text.\n",
        "    \"\"\"\n",
        "    tokens = word_tokenize(text)\n",
        "    pos_tags = pos_tag(tokens)\n",
        "    return sum(1 for _, tag in pos_tags if tag.startswith('JJ'))\n",
        "\n",
        "def VerbsCount(text):\n",
        "    \"\"\"\n",
        "    Counts the number of verbs in the text.\n",
        "    \"\"\"\n",
        "    tokens = word_tokenize(text)\n",
        "    pos_tags = pos_tag(tokens)\n",
        "    return sum(1 for _, tag in pos_tags if tag.startswith('VB'))\n",
        "\n",
        "def AdverbsCount(text):\n",
        "    \"\"\"\n",
        "    Counts the number of adverbs in the text.\n",
        "    \"\"\"\n",
        "    tokens = word_tokenize(text)\n",
        "    pos_tags = pos_tag(tokens)\n",
        "    return sum(1 for _, tag in pos_tags if tag.startswith('RB'))\n",
        "\n",
        "def plot_pie_chart(data):\n",
        "    \"\"\"\n",
        "    Plots a pie chart of the POS counts.\n",
        "    \"\"\"\n",
        "    labels = list(data.keys())\n",
        "    sizes = list(data.values())\n",
        "    plt.figure(figsize=(8, 8))\n",
        "    plt.pie(sizes, labels=labels, autopct='%1.1f%%', startangle=140, colors=plt.cm.Paired.colors)\n",
        "    plt.title(\"Distribution of Parts of Speech\")\n",
        "    plt.axis('equal')  # Equal aspect ratio ensures that pie is drawn as a circle.\n",
        "    plt.show()\n",
        "\n",
        "file_path = \"Brexit.docx\"\n",
        "document_text = read_docx(file_path)\n",
        "\n",
        "print(\"Document Content:\\n\", document_text)\n",
        "noun_count = NounsCount(document_text)\n",
        "pronoun_count = PronounsCount(document_text)\n",
        "adjective_count = AdjectivesCount(document_text)\n",
        "verb_count = VerbsCount(document_text)\n",
        "adverb_count = AdverbsCount(document_text)\n",
        "\n",
        "print(\"\\nCounts:\")\n",
        "print(f\"Nouns: {noun_count}\")\n",
        "print(f\"Pronouns: {pronoun_count}\")\n",
        "print(f\"Adjectives: {adjective_count}\")\n",
        "print(f\"Verbs: {verb_count}\")\n",
        "print(f\"Adverbs: {adverb_count}\")\n",
        "\n",
        "# Plot pie chart\n",
        "pos_data = {\n",
        "    'Nouns': noun_count,\n",
        "    'Pronouns': pronoun_count,\n",
        "    'Adjectives': adjective_count,\n",
        "    'Verbs': verb_count,\n",
        "    'Adverbs': adverb_count\n",
        "}\n",
        "plot_pie_chart(pos_data)\n",
        "\n"
      ],
      "metadata": {
        "colab": {
          "base_uri": "https://localhost:8080/",
          "height": 1000
        },
        "id": "Kexx9QucM1dD",
        "outputId": "8dd1de52-196a-4b6b-e6e7-4b5c90e56234"
      },
      "execution_count": 11,
      "outputs": [
        {
          "output_type": "stream",
          "name": "stderr",
          "text": [
            "[nltk_data] Downloading package punkt to /root/nltk_data...\n",
            "[nltk_data]   Package punkt is already up-to-date!\n",
            "[nltk_data] Downloading package punkt_tab to /root/nltk_data...\n",
            "[nltk_data]   Package punkt_tab is already up-to-date!\n",
            "[nltk_data] Downloading package averaged_perceptron_tagger_eng to\n",
            "[nltk_data]     /root/nltk_data...\n",
            "[nltk_data]   Unzipping taggers/averaged_perceptron_tagger_eng.zip.\n",
            "[nltk_data] Downloading package averaged_perceptron_tagger to\n",
            "[nltk_data]     /root/nltk_data...\n",
            "[nltk_data]   Package averaged_perceptron_tagger is already up-to-\n",
            "[nltk_data]       date!\n"
          ]
        },
        {
          "output_type": "stream",
          "name": "stdout",
          "text": [
            "Document Content:\n",
            " Brexit is the impending withdrawal of the United Kingdom (UK) from the European Union (EU). In a referendum on 23 June 2016, a majority of British voters supported leaving the EU. On 29 March 2017, the UK government invoked Article 50 of the Treaty on European Union. The European Union (Withdrawal) Act 2018 declares \"exit day\" to be 29 March 2019 at 11 p.m. (Central European Time). Prime Minister Theresa May announced the government's intention not to seek permanent membership of the European single market or the EU customs union after leaving the EU and promised to repeal the European Communities Act of 1972 and incorporate existing European Union law into UK domestic law. A new government department, the Department for Exiting the European Union, was created in July 2016. Negotiations with the EU officially started in June 2017, aiming to complete the withdrawal agreement by October 2018. In June 2018, the UK and the EU published a joint progress report outlining agreement on issues including customs, VAT and Euratom. The UK joined the European Communities (EC) in 1973, with membership confirmed by a referendum in 1975. In the 1970s and 1980s, withdrawal from the EC was advocated mainly by Labour Party members and trade union figures. From the 1990s, the main advocates of withdrawal were the newly founded UK Independence Party (UKIP) and an increasing number of Eurosceptic Conservative Party members. Prime Minister David Cameron held the referendum in fulfilment of a 2015 manifesto pledge. Cameron, who had campaigned for \"Remain\", resigned after the referendum result and was succeeded by Theresa May, who called a snap general election less than a year later, in which she lost her overall majority. Her minority government is supported in key votes by the Democratic Unionist Party. Six weeks after the referendum, the Bank of England introduced quantitative easing and lower interest rates, thus allowing both depreciation of sterling and a rise in inflation that outpaced wage growth for most of 2017. The drop in the value of sterling has been claimed to have been caused in part by hedge-fund managers betting on Brexit against polls predicting a narrow victory for the \"Remain\" camp.  There is a broad consensus in existing economic research that Brexit is likely to reduce the UK's real per capita income in the medium term and long term. There is also agreement among economists that the Brexit referendum itself damaged the economy in the subsequent two years. Studies on effects that have materialised since the referendum show annual losses of £404 for the average UK household, and losses between 1.3% and 2.1% of UK GDP. Brexit is likely to reduce immigration from European Economic Area (EEA) countries to the UK, and poses challenges for UK higher education and academic research. As of June 2018, the size of the \"divorce bill\", the UK's inheritance of existing EU trade agreements, and relations with Ireland and other EU member states remain uncertain. The precise impact on the UK depends on whether the process will be a \"hard\" or a \"soft\" Brexit.\n",
            "\n",
            "Counts:\n",
            "Nouns: 195\n",
            "Pronouns: 6\n",
            "Adjectives: 41\n",
            "Verbs: 67\n",
            "Adverbs: 7\n"
          ]
        },
        {
          "output_type": "display_data",
          "data": {
            "text/plain": [
              "<Figure size 800x800 with 1 Axes>"
            ],
            "image/png": "[encoded data removed]"
          },
          "metadata": {}
        }
      ]
    },
    {
      "cell_type": "markdown",
      "source": [
        "3.Read the file “Brexit.docx” andwrite pythonfunctions which take a string as an input and returns:\n",
        "  1. Number of geo-Political entities present in the file.Take function name as“GeoPoliticalCount”\n",
        "  2. Number of Personspresent in the file. Take function name as “PersonsCount”\n",
        "  3. Numbers of Organizations mentioned in the file.Take function name as “OrganizationsCount”\n"
      ],
      "metadata": {
        "id": "0X681bd1JLy8"
      }
    },
    {
      "cell_type": "code",
      "source": [
        "import spacy\n",
        "import docx\n",
        "\n",
        "# Load the spaCy model\n",
        "nlp = spacy.load(\"en_core_web_sm\")\n",
        "\n",
        "def read_docx(file_path):\n",
        "    \"\"\"\n",
        "    Reads a .docx file and returns its content as a string.\n",
        "    \"\"\"\n",
        "    doc = docx.Document(file_path)\n",
        "    content = \"\"\n",
        "    for paragraph in doc.paragraphs:\n",
        "        content += paragraph.text + \" \"\n",
        "    return content.strip()\n",
        "\n",
        "def GeoPoliticalCount(text):\n",
        "    \"\"\"\n",
        "    Counts the number of geopolitical entities in the text.\n",
        "    \"\"\"\n",
        "    doc = nlp(text)\n",
        "    return sum(1 for ent in doc.ents if ent.label_ == \"GPE\")\n",
        "\n",
        "def PersonsCount(text):\n",
        "    \"\"\"\n",
        "    Counts the number of persons mentioned in the text.\n",
        "    \"\"\"\n",
        "    doc = nlp(text)\n",
        "    return sum(1 for ent in doc.ents if ent.label_ == \"PERSON\")\n",
        "\n",
        "def OrganizationsCount(text):\n",
        "    \"\"\"\n",
        "    Counts the number of organizations mentioned in the text.\n",
        "    \"\"\"\n",
        "    doc = nlp(text)\n",
        "    return sum(1 for ent in doc.ents if ent.label_ == \"ORG\")\n",
        "\n",
        "file_path = \"Brexit.docx\"\n",
        "document_text = read_docx(file_path)\n",
        "print(\"Document Content:\\n\", document_text)\n",
        "\n",
        "geo_political_count = GeoPoliticalCount(document_text)\n",
        "persons_count = PersonsCount(document_text)\n",
        "organizations_count = OrganizationsCount(document_text)\n",
        "\n",
        "print(\"\\nCounts:\")\n",
        "print(f\"Geopolitical Entities: {geo_political_count}\")\n",
        "print(f\"Persons: {persons_count}\")\n",
        "print(f\"Organizations: {organizations_count}\")\n"
      ],
      "metadata": {
        "colab": {
          "base_uri": "https://localhost:8080/"
        },
        "id": "lIGPZ_MzNhAv",
        "outputId": "f46594f3-225b-41b4-9b93-8a4e299a9254"
      },
      "execution_count": 12,
      "outputs": [
        {
          "output_type": "stream",
          "name": "stdout",
          "text": [
            "Document Content:\n",
            " Brexit is the impending withdrawal of the United Kingdom (UK) from the European Union (EU). In a referendum on 23 June 2016, a majority of British voters supported leaving the EU. On 29 March 2017, the UK government invoked Article 50 of the Treaty on European Union. The European Union (Withdrawal) Act 2018 declares \"exit day\" to be 29 March 2019 at 11 p.m. (Central European Time). Prime Minister Theresa May announced the government's intention not to seek permanent membership of the European single market or the EU customs union after leaving the EU and promised to repeal the European Communities Act of 1972 and incorporate existing European Union law into UK domestic law. A new government department, the Department for Exiting the European Union, was created in July 2016. Negotiations with the EU officially started in June 2017, aiming to complete the withdrawal agreement by October 2018. In June 2018, the UK and the EU published a joint progress report outlining agreement on issues including customs, VAT and Euratom. The UK joined the European Communities (EC) in 1973, with membership confirmed by a referendum in 1975. In the 1970s and 1980s, withdrawal from the EC was advocated mainly by Labour Party members and trade union figures. From the 1990s, the main advocates of withdrawal were the newly founded UK Independence Party (UKIP) and an increasing number of Eurosceptic Conservative Party members. Prime Minister David Cameron held the referendum in fulfilment of a 2015 manifesto pledge. Cameron, who had campaigned for \"Remain\", resigned after the referendum result and was succeeded by Theresa May, who called a snap general election less than a year later, in which she lost her overall majority. Her minority government is supported in key votes by the Democratic Unionist Party. Six weeks after the referendum, the Bank of England introduced quantitative easing and lower interest rates, thus allowing both depreciation of sterling and a rise in inflation that outpaced wage growth for most of 2017. The drop in the value of sterling has been claimed to have been caused in part by hedge-fund managers betting on Brexit against polls predicting a narrow victory for the \"Remain\" camp.  There is a broad consensus in existing economic research that Brexit is likely to reduce the UK's real per capita income in the medium term and long term. There is also agreement among economists that the Brexit referendum itself damaged the economy in the subsequent two years. Studies on effects that have materialised since the referendum show annual losses of £404 for the average UK household, and losses between 1.3% and 2.1% of UK GDP. Brexit is likely to reduce immigration from European Economic Area (EEA) countries to the UK, and poses challenges for UK higher education and academic research. As of June 2018, the size of the \"divorce bill\", the UK's inheritance of existing EU trade agreements, and relations with Ireland and other EU member states remain uncertain. The precise impact on the UK depends on whether the process will be a \"hard\" or a \"soft\" Brexit.\n",
            "\n",
            "Counts:\n",
            "Geopolitical Entities: 14\n",
            "Persons: 9\n",
            "Organizations: 24\n"
          ]
        }
      ]
    },
    {
      "cell_type": "markdown",
      "source": [
        "4. Answer the following questions:\n",
        "  1. Most frequent bi-gram from the data\n",
        "  2. Most frequent Noun\n",
        "  3. Most frequent GeoPolitical Entity\n",
        "  4. Most frequent person"
      ],
      "metadata": {
        "id": "JTWxO_0TJaV0"
      }
    },
    {
      "cell_type": "code",
      "source": [
        "import spacy\n",
        "import docx\n",
        "from collections import Counter\n",
        "from nltk.util import ngrams\n",
        "\n",
        "# Load the spaCy model\n",
        "nlp = spacy.load(\"en_core_web_sm\")\n",
        "\n",
        "def read_docx(file_path):\n",
        "    \"\"\"\n",
        "    Reads a .docx file and returns its content as a string.\n",
        "    \"\"\"\n",
        "    doc = docx.Document(file_path)\n",
        "    content = \"\"\n",
        "    for paragraph in doc.paragraphs:\n",
        "        content += paragraph.text + \" \"\n",
        "    return content.strip()\n",
        "\n",
        "def most_frequent_bigram(text):\n",
        "    \"\"\"\n",
        "    Finds the most frequent bigram from the text.\n",
        "    \"\"\"\n",
        "    words = [word.text.lower() for word in nlp(text) if not word.is_punct and not word.is_space]\n",
        "    bigrams = ngrams(words, 2)\n",
        "    bigram_counts = Counter(bigrams)\n",
        "    return bigram_counts.most_common(1)\n",
        "\n",
        "def most_frequent_noun(text):\n",
        "    \"\"\"\n",
        "    Finds the most frequent noun from the text.\n",
        "    \"\"\"\n",
        "    doc = nlp(text)\n",
        "    nouns = [token.text.lower() for token in doc if token.pos_ == \"NOUN\"]\n",
        "    noun_counts = Counter(nouns)\n",
        "    return noun_counts.most_common(1)\n",
        "\n",
        "def most_frequent_geopolitical_entity(text):\n",
        "    \"\"\"\n",
        "    Finds the most frequent geopolitical entity (GPE) from the text.\n",
        "    \"\"\"\n",
        "    doc = nlp(text)\n",
        "    gpes = [ent.text for ent in doc.ents if ent.label_ == \"GPE\"]\n",
        "    gpe_counts = Counter(gpes)\n",
        "    return gpe_counts.most_common(1)\n",
        "\n",
        "def most_frequent_person(text):\n",
        "    \"\"\"\n",
        "    Finds the most frequent person from the text.\n",
        "    \"\"\"\n",
        "    doc = nlp(text)\n",
        "    persons = [ent.text for ent in doc.ents if ent.label_ == \"PERSON\"]\n",
        "    person_counts = Counter(persons)\n",
        "    return person_counts.most_common(1)\n",
        "\n",
        "file_path = \"Brexit.docx\"\n",
        "document_text = read_docx(file_path)\n",
        "print(\"Document Content:\\n\", document_text)\n",
        "\n",
        "# Most frequent analyses\n",
        "frequent_bigram = most_frequent_bigram(document_text)\n",
        "frequent_noun = most_frequent_noun(document_text)\n",
        "frequent_geopolitical = most_frequent_geopolitical_entity(document_text)\n",
        "frequent_person = most_frequent_person(document_text)\n",
        "\n",
        "print(\"\\nResults:\")\n",
        "print(f\"Most Frequent Bigram: {frequent_bigram}\")\n",
        "print(f\"Most Frequent Noun: {frequent_noun}\")\n",
        "print(f\"Most Frequent GeoPolitical Entity: {frequent_geopolitical}\")\n",
        "print(f\"Most Frequent Person: {frequent_person}\")\n"
      ],
      "metadata": {
        "colab": {
          "base_uri": "https://localhost:8080/"
        },
        "id": "kiWiIWEJOBw2",
        "outputId": "46cbf244-8319-4626-a46d-8f9c0768c7c7"
      },
      "execution_count": 13,
      "outputs": [
        {
          "output_type": "stream",
          "name": "stdout",
          "text": [
            "Document Content:\n",
            " Brexit is the impending withdrawal of the United Kingdom (UK) from the European Union (EU). In a referendum on 23 June 2016, a majority of British voters supported leaving the EU. On 29 March 2017, the UK government invoked Article 50 of the Treaty on European Union. The European Union (Withdrawal) Act 2018 declares \"exit day\" to be 29 March 2019 at 11 p.m. (Central European Time). Prime Minister Theresa May announced the government's intention not to seek permanent membership of the European single market or the EU customs union after leaving the EU and promised to repeal the European Communities Act of 1972 and incorporate existing European Union law into UK domestic law. A new government department, the Department for Exiting the European Union, was created in July 2016. Negotiations with the EU officially started in June 2017, aiming to complete the withdrawal agreement by October 2018. In June 2018, the UK and the EU published a joint progress report outlining agreement on issues including customs, VAT and Euratom. The UK joined the European Communities (EC) in 1973, with membership confirmed by a referendum in 1975. In the 1970s and 1980s, withdrawal from the EC was advocated mainly by Labour Party members and trade union figures. From the 1990s, the main advocates of withdrawal were the newly founded UK Independence Party (UKIP) and an increasing number of Eurosceptic Conservative Party members. Prime Minister David Cameron held the referendum in fulfilment of a 2015 manifesto pledge. Cameron, who had campaigned for \"Remain\", resigned after the referendum result and was succeeded by Theresa May, who called a snap general election less than a year later, in which she lost her overall majority. Her minority government is supported in key votes by the Democratic Unionist Party. Six weeks after the referendum, the Bank of England introduced quantitative easing and lower interest rates, thus allowing both depreciation of sterling and a rise in inflation that outpaced wage growth for most of 2017. The drop in the value of sterling has been claimed to have been caused in part by hedge-fund managers betting on Brexit against polls predicting a narrow victory for the \"Remain\" camp.  There is a broad consensus in existing economic research that Brexit is likely to reduce the UK's real per capita income in the medium term and long term. There is also agreement among economists that the Brexit referendum itself damaged the economy in the subsequent two years. Studies on effects that have materialised since the referendum show annual losses of £404 for the average UK household, and losses between 1.3% and 2.1% of UK GDP. Brexit is likely to reduce immigration from European Economic Area (EEA) countries to the UK, and poses challenges for UK higher education and academic research. As of June 2018, the size of the \"divorce bill\", the UK's inheritance of existing EU trade agreements, and relations with Ireland and other EU member states remain uncertain. The precise impact on the UK depends on whether the process will be a \"hard\" or a \"soft\" Brexit.\n",
            "\n",
            "Results:\n",
            "Most Frequent Bigram: [(('the', 'uk'), 7)]\n",
            "Most Frequent Noun: [('referendum', 7)]\n",
            "Most Frequent GeoPolitical Entity: [('UK', 12)]\n",
            "Most Frequent Person: [('Brexit', 6)]\n"
          ]
        }
      ]
    }
  ]
}