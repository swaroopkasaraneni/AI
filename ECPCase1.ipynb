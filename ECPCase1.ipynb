{
  "nbformat": 4,
  "nbformat_minor": 0,
  "metadata": {
    "colab": {
      "provenance": [],
      "authorship_tag": "ABX9TyPvnyabKD4Al9CBYxaNyQaR",
      "include_colab_link": true
    },
    "kernelspec": {
      "name": "python3",
      "display_name": "Python 3"
    },
    "language_info": {
      "name": "python"
    }
  },
  "cells": [
    {
      "cell_type": "markdown",
      "metadata": {
        "id": "view-in-github",
        "colab_type": "text"
      },
      "source": [
        "<a href=\"https://colab.research.google.com/github/swaroopkasaraneni/AI/blob/main/ECPCase1.ipynb\" target=\"_parent\"><img src=\"https://colab.research.google.com/assets/colab-badge.svg\" alt=\"Open In Colab\"/></a>"
      ]
    },
    {
      "cell_type": "markdown",
      "source": [
        "1. Write a program to enter a string from user and perform following tasks\n",
        "  1. Write a python functionnamed “Tokenize”which returnsthe tokenized string\n",
        "  2. Print tokens along with the frequency of each tokenusing the above function\n",
        "  3. Printthe 5 least occurring tokens\n"
      ],
      "metadata": {
        "id": "BGI2BV0OmdNL"
      }
    },
    {
      "cell_type": "code",
      "source": [
        "from collections import Counter\n",
        "\n",
        "def tokenize(input_string):\n",
        "    \"\"\"\n",
        "    Tokenize the input string into words and return a list of tokens.\n",
        "    \"\"\"\n",
        "    tokens = input_string.split()\n",
        "    return tokens\n",
        "\n",
        "\n",
        "user_string = input(\"Enter a string: \")\n",
        "tokens = tokenize(user_string)\n",
        "token_frequency = Counter(tokens)\n",
        "\n",
        "# Print tokens along with their frequency\n",
        "print(\"\\nTokens and their frequencies:\")\n",
        "for token, freq in token_frequency.items():\n",
        "    print(f\"{token}: {freq}\")\n",
        "\n",
        "# Get the 5 least occurring tokens\n",
        "least_frequent_tokens = token_frequency.most_common()[:-6:-1]\n",
        "print(\"\\n5 least occurring tokens:\")\n",
        "for token, freq in least_frequent_tokens:\n",
        "    print(f\"{token}: {freq}\")\n"
      ],
      "metadata": {
        "colab": {
          "base_uri": "https://localhost:8080/"
        },
        "id": "-eevmk_7tCOL",
        "outputId": "1e042b56-5472-4ae1-9d24-6afeb91f9a77"
      },
      "execution_count": 1,
      "outputs": [
        {
          "output_type": "stream",
          "name": "stdout",
          "text": [
            "Enter a string: Write a program to enter a string from user\n",
            "\n",
            "Tokens and their frequencies:\n",
            "Write: 1\n",
            "a: 2\n",
            "program: 1\n",
            "to: 1\n",
            "enter: 1\n",
            "string: 1\n",
            "from: 1\n",
            "user: 1\n",
            "\n",
            "5 least occurring tokens:\n",
            "user: 1\n",
            "from: 1\n",
            "string: 1\n",
            "enter: 1\n",
            "to: 1\n"
          ]
        }
      ]
    },
    {
      "cell_type": "markdown",
      "source": [
        "2. Write a program to enter a string from user and perform following tasks.\n",
        "  1. Write a python functionnamed “RemoveStopWords”which returns the string after removing stop words\n",
        "  2. Count frequency ofeach stop word present in a string using the above function\n",
        "  3. Plot a bar graph depicting stop wordsand their frequencies"
      ],
      "metadata": {
        "id": "06Wa9p0Csjn7"
      }
    },
    {
      "cell_type": "code",
      "source": [
        "import matplotlib.pyplot as plt\n",
        "from collections import Counter\n",
        "from nltk.corpus import stopwords\n",
        "import nltk\n",
        "\n",
        "# List of stopwords\n",
        "nltk.download('stopwords')\n",
        "stop_words = set(stopwords.words('english'))\n",
        "\n",
        "def remove_stop_words(tokens):\n",
        "    \"\"\"\n",
        "    Remove stop words from the input string and return the modified string.\n",
        "    Also, count the frequency of stop words in the string.\n",
        "    \"\"\"\n",
        "\n",
        "    stop_word_counts = Counter(word for word in tokens if word.lower() in stop_words)\n",
        "    filtered_tokens = [word for word in tokens if word.lower() not in stop_words]\n",
        "    return filtered_tokens, stop_word_counts\n",
        "\n",
        "user_string = input(\"Enter a string: \")\n",
        "filtered_tokens, stop_word_freq = remove_stop_words(user_string.split())\n",
        "print(\"\\nString after removing stop words:\")\n",
        "print(' '.join(filtered_tokens))\n",
        "\n",
        "# Print the stop words and their frequencies\n",
        "print(\"\\nStop words and their frequencies:\")\n",
        "for word, freq in stop_word_freq.items():\n",
        "    print(f\"{word}: {freq}\")\n",
        "\n",
        "# Plot the bar graph for stop word frequencies\n",
        "if stop_word_freq:\n",
        "    plt.figure(figsize=(10, 6))\n",
        "    plt.bar(stop_word_freq.keys(), stop_word_freq.values(), color='skyblue')\n",
        "    plt.title(\"Frequency of Stop Words\", fontsize=16)\n",
        "    plt.xlabel(\"Stop Words\", fontsize=14)\n",
        "    plt.ylabel(\"Frequency\", fontsize=14)\n",
        "    plt.xticks(rotation=45)\n",
        "    plt.tight_layout()\n",
        "    plt.savefig(\"StopWordsFrequency.png\")\n",
        "    plt.show()\n",
        "else:\n",
        "    print(\"\\nNo stop words found in the input string.\")\n"
      ],
      "metadata": {
        "colab": {
          "base_uri": "https://localhost:8080/",
          "height": 815
        },
        "id": "fGeqdIs2t12k",
        "outputId": "1dbbc53a-ebc2-4ae2-c053-69cfe914c3c3"
      },
      "execution_count": 14,
      "outputs": [
        {
          "output_type": "stream",
          "name": "stderr",
          "text": [
            "[nltk_data] Downloading package stopwords to /root/nltk_data...\n",
            "[nltk_data]   Package stopwords is already up-to-date!\n"
          ]
        },
        {
          "output_type": "stream",
          "name": "stdout",
          "text": [
            "Enter a string: Write a program to enter a string from user and perform following tasks\n",
            "\n",
            "String after removing stop words:\n",
            "Write program enter string user perform following tasks\n",
            "\n",
            "Stop words and their frequencies:\n",
            "a: 2\n",
            "to: 1\n",
            "from: 1\n",
            "and: 1\n"
          ]
        },
        {
          "output_type": "display_data",
          "data": {
            "text/plain": [
              "<Figure size 1000x600 with 1 Axes>"
            ],
            "image/png": "[encoded data removed]"
          },
          "metadata": {}
        }
      ]
    },
    {
      "cell_type": "markdown",
      "source": [
        "3. Write a program to enter a string from user and perform following tasks\n",
        "  1. Write a python functionnamed “Lemmatize”which returns a string after lemmatizing the string.\n",
        "  2. Write a python functionnamed “Stemmed” which returns a string after stemming the string. (Use any stemmer of your preference)\n",
        "  3. Print all the words along with their lemmatized and stemmed form using theabove functions\n",
        "  4. Save these results in a csv file having 3 columns:\n",
        "  ![image.png](data:image/png;base64,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)\n",
        "\n"
      ],
      "metadata": {
        "id": "2nUrTyTDskbb"
      }
    },
    {
      "cell_type": "code",
      "source": [
        "import nltk\n",
        "import pandas as pd\n",
        "from nltk.stem import WordNetLemmatizer, PorterStemmer\n",
        "\n",
        "# Ensure required NLTK data is downloaded\n",
        "nltk.download('wordnet')\n",
        "nltk.download('omw-1.4')\n",
        "\n",
        "# Initialize lemmatizer and stemmer\n",
        "lemmatizer = WordNetLemmatizer()\n",
        "stemmer = PorterStemmer()\n",
        "\n",
        "def lemmatize_words(tokens):\n",
        "    \"\"\"\n",
        "    Lemmatize each word in the string and return the lemmatized string.\n",
        "    \"\"\"\n",
        "    lemmatized = [lemmatizer.lemmatize(word) for word in tokens]\n",
        "    return ' '.join(lemmatized), lemmatized\n",
        "\n",
        "def stem_words(tokens):\n",
        "    \"\"\"\n",
        "    Stem each word in the string and return the stemmed string.\n",
        "    \"\"\"\n",
        "    stemmed = [stemmer.stem(word) for word in tokens]\n",
        "    return ' '.join(stemmed), stemmed\n",
        "\n",
        "user_string = input(\"Enter a string: \")\n",
        "tokens = user_string.split()\n",
        "lemmatized_string, lemmatized_tokens = lemmatize_words(tokens)\n",
        "stemmed_string, stemmed_tokens = stem_words(tokens)\n",
        "print(\"\\nOriginal String:\")\n",
        "print(user_string)\n",
        "print(\"\\nLemmatized String:\")\n",
        "print(lemmatized_string)\n",
        "print(\"\\nStemmed String:\")\n",
        "print(stemmed_string)\n",
        "\n",
        "words = user_string.split()\n",
        "data = {\n",
        "    'Original Word': words,\n",
        "    'Lemmatized Word': lemmatized_tokens,\n",
        "    'Stemmed Word': stemmed_tokens\n",
        "}\n",
        "df = pd.DataFrame(data)\n",
        "csv_file = \"lemmatized_stemmed_words.csv\"\n",
        "df.to_csv(csv_file, index=False)\n",
        "print(f\"\\nResults saved to '{csv_file}'.\")\n",
        "\n",
        "print(\"\\nWord Comparison Table:\")\n",
        "print(df)\n"
      ],
      "metadata": {
        "colab": {
          "base_uri": "https://localhost:8080/"
        },
        "id": "R8fhRLPFuyZE",
        "outputId": "1eade983-e422-49bd-b6aa-be4b2db1472e"
      },
      "execution_count": 10,
      "outputs": [
        {
          "output_type": "stream",
          "name": "stderr",
          "text": [
            "[nltk_data] Downloading package wordnet to /root/nltk_data...\n",
            "[nltk_data]   Package wordnet is already up-to-date!\n",
            "[nltk_data] Downloading package omw-1.4 to /root/nltk_data...\n",
            "[nltk_data]   Package omw-1.4 is already up-to-date!\n"
          ]
        },
        {
          "output_type": "stream",
          "name": "stdout",
          "text": [
            "Enter a string: writing a programs to had for ssearching .\n",
            "\n",
            "Original String:\n",
            "writing a programs to had for ssearching .\n",
            "\n",
            "Lemmatized String:\n",
            "writing a program to had for ssearching .\n",
            "\n",
            "Stemmed String:\n",
            "write a program to had for ssearch .\n",
            "\n",
            "Results saved to 'lemmatized_stemmed_words.csv'.\n",
            "\n",
            "Word Comparison Table:\n",
            "  Original Word Lemmatized Word Stemmed Word\n",
            "0       writing         writing        write\n",
            "1             a               a            a\n",
            "2      programs         program      program\n",
            "3            to              to           to\n",
            "4           had             had          had\n",
            "5           for             for          for\n",
            "6    ssearching      ssearching      ssearch\n",
            "7             .               .            .\n"
          ]
        }
      ]
    },
    {
      "cell_type": "markdown",
      "source": [
        "4. Create a python file named “PreProcess” and perform the following tasks.\n",
        "  1. Copy the function “Tokenize” in this file from question\n",
        "  2. Copy thefunction “RemoveStopWords” in this file from question\n",
        "  3. Copy the function “Lemmatize” in this file from question\n",
        "  4. Create a function named “Refine” which accepts a string and call the above 3 functions in the same order i.e. first Tokenize then RemoveStopWords then Lemmatize.\n",
        "    Remember:\n",
        "    1. Inputted string will be input to Tokenize Function\n",
        "    2. Tokenized String will be input to RemoveStopWords function\n",
        "    3. StopWordsRemoved string will be input to Lemmatize function\n",
        "Save this python file as PreProcess and you can use this for upcoming assignments."
      ],
      "metadata": {
        "id": "_2z7yY8Lsn7f"
      }
    },
    {
      "cell_type": "code",
      "source": [
        "# Refine function\n",
        "def Refine(input_string):\n",
        "    \"\"\"\n",
        "    Refines the input string by tokenizing, removing stop words, and lemmatizing it.\n",
        "    \"\"\"\n",
        "    print(f\"Input String: {input_string}\")\n",
        "    # Step 1: Tokenize\n",
        "    tokenized = tokenize(input_string)\n",
        "    print(f\"Tokenized: {tokenized}\")\n",
        "\n",
        "    # Step 2: Remove Stop Words\n",
        "    removed_stopwords, no_stopwords = remove_stop_words(tokenized)\n",
        "    print(f\"After Stop Words Removal: {removed_stopwords}\")\n",
        "\n",
        "    # Step 3: Lemmatize\n",
        "    refined_string,lemmatized = lemmatize_words(removed_stopwords)\n",
        "    print(f\"Lemmatized: {lemmatized}\")\n",
        "\n",
        "    return refined_string\n",
        "\n",
        "# Example usage\n",
        "if __name__ == \"__main__\":\n",
        "    input_text = input(\"Enter a string: \")\n",
        "    refined_result = Refine(input_text)\n",
        "    print(f\"\\nRefined String: {refined_result}\")\n",
        "\n"
      ],
      "metadata": {
        "colab": {
          "base_uri": "https://localhost:8080/"
        },
        "id": "D07XIWutwYeo",
        "outputId": "81d54674-cb35-41e9-c2e3-1075a330230b"
      },
      "execution_count": 16,
      "outputs": [
        {
          "output_type": "stream",
          "name": "stdout",
          "text": [
            "Enter a string: writing a programs to had for corpora ssearching .\n",
            "Input String: writing a programs to had for corpora ssearching .\n",
            "Tokenized: ['writing', 'a', 'programs', 'to', 'had', 'for', 'corpora', 'ssearching', '.']\n",
            "After Stop Words Removal: ['writing', 'programs', 'corpora', 'ssearching', '.']\n",
            "Lemmatized: ['writing', 'program', 'corpus', 'ssearching', '.']\n",
            "\n",
            "Refined String: writing program corpus ssearching .\n"
          ]
        }
      ]
    }
  ]
}